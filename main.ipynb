{
 "cells": [
  {
   "cell_type": "code",
   "execution_count": 8,
   "id": "b8eed2f2",
   "metadata": {},
   "outputs": [],
   "source": [
    "import pandas as pd\n",
    "from matplotlib import pyplot as plt\n",
    "import numpy as np"
   ]
  },
  {
   "cell_type": "code",
   "execution_count": 2,
   "id": "914896b9",
   "metadata": {},
   "outputs": [],
   "source": [
    "train_csv=\"./data/train.csv\"\n",
    "test_csv=\"./data/test.csv\"\n",
    "\n",
    "train=pd.read_csv(train_csv, nrows = 1000000) #Sample only subset since dataset is very large\n",
    "test=pd.read_csv(test_csv, nrows = 1000000)"
   ]
  },
  {
   "cell_type": "code",
   "execution_count": 3,
   "id": "2f1405c5",
   "metadata": {},
   "outputs": [
    {
     "data": {
      "text/html": [
       "<div>\n",
       "<style scoped>\n",
       "    .dataframe tbody tr th:only-of-type {\n",
       "        vertical-align: middle;\n",
       "    }\n",
       "\n",
       "    .dataframe tbody tr th {\n",
       "        vertical-align: top;\n",
       "    }\n",
       "\n",
       "    .dataframe thead th {\n",
       "        text-align: right;\n",
       "    }\n",
       "</style>\n",
       "<table border=\"1\" class=\"dataframe\">\n",
       "  <thead>\n",
       "    <tr style=\"text-align: right;\">\n",
       "      <th></th>\n",
       "      <th>key</th>\n",
       "      <th>fare_amount</th>\n",
       "      <th>pickup_datetime</th>\n",
       "      <th>pickup_longitude</th>\n",
       "      <th>pickup_latitude</th>\n",
       "      <th>dropoff_longitude</th>\n",
       "      <th>dropoff_latitude</th>\n",
       "      <th>passenger_count</th>\n",
       "    </tr>\n",
       "  </thead>\n",
       "  <tbody>\n",
       "    <tr>\n",
       "      <th>0</th>\n",
       "      <td>2009-06-15 17:26:21.0000001</td>\n",
       "      <td>4.5</td>\n",
       "      <td>2009-06-15 17:26:21 UTC</td>\n",
       "      <td>-73.844311</td>\n",
       "      <td>40.721319</td>\n",
       "      <td>-73.841610</td>\n",
       "      <td>40.712278</td>\n",
       "      <td>1</td>\n",
       "    </tr>\n",
       "    <tr>\n",
       "      <th>1</th>\n",
       "      <td>2010-01-05 16:52:16.0000002</td>\n",
       "      <td>16.9</td>\n",
       "      <td>2010-01-05 16:52:16 UTC</td>\n",
       "      <td>-74.016048</td>\n",
       "      <td>40.711303</td>\n",
       "      <td>-73.979268</td>\n",
       "      <td>40.782004</td>\n",
       "      <td>1</td>\n",
       "    </tr>\n",
       "    <tr>\n",
       "      <th>2</th>\n",
       "      <td>2011-08-18 00:35:00.00000049</td>\n",
       "      <td>5.7</td>\n",
       "      <td>2011-08-18 00:35:00 UTC</td>\n",
       "      <td>-73.982738</td>\n",
       "      <td>40.761270</td>\n",
       "      <td>-73.991242</td>\n",
       "      <td>40.750562</td>\n",
       "      <td>2</td>\n",
       "    </tr>\n",
       "    <tr>\n",
       "      <th>3</th>\n",
       "      <td>2012-04-21 04:30:42.0000001</td>\n",
       "      <td>7.7</td>\n",
       "      <td>2012-04-21 04:30:42 UTC</td>\n",
       "      <td>-73.987130</td>\n",
       "      <td>40.733143</td>\n",
       "      <td>-73.991567</td>\n",
       "      <td>40.758092</td>\n",
       "      <td>1</td>\n",
       "    </tr>\n",
       "    <tr>\n",
       "      <th>4</th>\n",
       "      <td>2010-03-09 07:51:00.000000135</td>\n",
       "      <td>5.3</td>\n",
       "      <td>2010-03-09 07:51:00 UTC</td>\n",
       "      <td>-73.968095</td>\n",
       "      <td>40.768008</td>\n",
       "      <td>-73.956655</td>\n",
       "      <td>40.783762</td>\n",
       "      <td>1</td>\n",
       "    </tr>\n",
       "  </tbody>\n",
       "</table>\n",
       "</div>"
      ],
      "text/plain": [
       "                             key  fare_amount          pickup_datetime  \\\n",
       "0    2009-06-15 17:26:21.0000001          4.5  2009-06-15 17:26:21 UTC   \n",
       "1    2010-01-05 16:52:16.0000002         16.9  2010-01-05 16:52:16 UTC   \n",
       "2   2011-08-18 00:35:00.00000049          5.7  2011-08-18 00:35:00 UTC   \n",
       "3    2012-04-21 04:30:42.0000001          7.7  2012-04-21 04:30:42 UTC   \n",
       "4  2010-03-09 07:51:00.000000135          5.3  2010-03-09 07:51:00 UTC   \n",
       "\n",
       "   pickup_longitude  pickup_latitude  dropoff_longitude  dropoff_latitude  \\\n",
       "0        -73.844311        40.721319         -73.841610         40.712278   \n",
       "1        -74.016048        40.711303         -73.979268         40.782004   \n",
       "2        -73.982738        40.761270         -73.991242         40.750562   \n",
       "3        -73.987130        40.733143         -73.991567         40.758092   \n",
       "4        -73.968095        40.768008         -73.956655         40.783762   \n",
       "\n",
       "   passenger_count  \n",
       "0                1  \n",
       "1                1  \n",
       "2                2  \n",
       "3                1  \n",
       "4                1  "
      ]
     },
     "execution_count": 3,
     "metadata": {},
     "output_type": "execute_result"
    }
   ],
   "source": [
    "train.head(5)"
   ]
  },
  {
   "cell_type": "markdown",
   "id": "49212ccf",
   "metadata": {},
   "source": [
    "# Data cleaning"
   ]
  },
  {
   "cell_type": "code",
   "execution_count": 4,
   "id": "2d68310e",
   "metadata": {},
   "outputs": [],
   "source": [
    "#train.info()\n",
    "train = train.dropna() #Very few data entries are n/a so doesn't hurt to drop them"
   ]
  },
  {
   "cell_type": "code",
   "execution_count": 5,
   "id": "e4d5db18",
   "metadata": {},
   "outputs": [],
   "source": [
    "#First convert from python datetime object to pandas datetime obejct\n",
    "train['pickup_datetime'] = pd.to_datetime(train['pickup_datetime'])"
   ]
  },
  {
   "cell_type": "code",
   "execution_count": 6,
   "id": "f0edfc44",
   "metadata": {},
   "outputs": [
    {
     "data": {
      "text/html": [
       "<div>\n",
       "<style scoped>\n",
       "    .dataframe tbody tr th:only-of-type {\n",
       "        vertical-align: middle;\n",
       "    }\n",
       "\n",
       "    .dataframe tbody tr th {\n",
       "        vertical-align: top;\n",
       "    }\n",
       "\n",
       "    .dataframe thead th {\n",
       "        text-align: right;\n",
       "    }\n",
       "</style>\n",
       "<table border=\"1\" class=\"dataframe\">\n",
       "  <thead>\n",
       "    <tr style=\"text-align: right;\">\n",
       "      <th></th>\n",
       "      <th>key</th>\n",
       "      <th>fare_amount</th>\n",
       "      <th>pickup_datetime</th>\n",
       "      <th>pickup_longitude</th>\n",
       "      <th>pickup_latitude</th>\n",
       "      <th>dropoff_longitude</th>\n",
       "      <th>dropoff_latitude</th>\n",
       "      <th>passenger_count</th>\n",
       "      <th>pickup_year</th>\n",
       "      <th>pickup_month</th>\n",
       "      <th>pickup_day</th>\n",
       "      <th>pickup_day_of_week</th>\n",
       "      <th>pickup_hour</th>\n",
       "    </tr>\n",
       "  </thead>\n",
       "  <tbody>\n",
       "    <tr>\n",
       "      <th>0</th>\n",
       "      <td>2009-06-15 17:26:21.0000001</td>\n",
       "      <td>4.5</td>\n",
       "      <td>2009-06-15 17:26:21+00:00</td>\n",
       "      <td>-73.844311</td>\n",
       "      <td>40.721319</td>\n",
       "      <td>-73.841610</td>\n",
       "      <td>40.712278</td>\n",
       "      <td>1</td>\n",
       "      <td>2009</td>\n",
       "      <td>6</td>\n",
       "      <td>15</td>\n",
       "      <td>0</td>\n",
       "      <td>17</td>\n",
       "    </tr>\n",
       "    <tr>\n",
       "      <th>1</th>\n",
       "      <td>2010-01-05 16:52:16.0000002</td>\n",
       "      <td>16.9</td>\n",
       "      <td>2010-01-05 16:52:16+00:00</td>\n",
       "      <td>-74.016048</td>\n",
       "      <td>40.711303</td>\n",
       "      <td>-73.979268</td>\n",
       "      <td>40.782004</td>\n",
       "      <td>1</td>\n",
       "      <td>2010</td>\n",
       "      <td>1</td>\n",
       "      <td>5</td>\n",
       "      <td>1</td>\n",
       "      <td>16</td>\n",
       "    </tr>\n",
       "    <tr>\n",
       "      <th>2</th>\n",
       "      <td>2011-08-18 00:35:00.00000049</td>\n",
       "      <td>5.7</td>\n",
       "      <td>2011-08-18 00:35:00+00:00</td>\n",
       "      <td>-73.982738</td>\n",
       "      <td>40.761270</td>\n",
       "      <td>-73.991242</td>\n",
       "      <td>40.750562</td>\n",
       "      <td>2</td>\n",
       "      <td>2011</td>\n",
       "      <td>8</td>\n",
       "      <td>18</td>\n",
       "      <td>3</td>\n",
       "      <td>0</td>\n",
       "    </tr>\n",
       "    <tr>\n",
       "      <th>3</th>\n",
       "      <td>2012-04-21 04:30:42.0000001</td>\n",
       "      <td>7.7</td>\n",
       "      <td>2012-04-21 04:30:42+00:00</td>\n",
       "      <td>-73.987130</td>\n",
       "      <td>40.733143</td>\n",
       "      <td>-73.991567</td>\n",
       "      <td>40.758092</td>\n",
       "      <td>1</td>\n",
       "      <td>2012</td>\n",
       "      <td>4</td>\n",
       "      <td>21</td>\n",
       "      <td>5</td>\n",
       "      <td>4</td>\n",
       "    </tr>\n",
       "    <tr>\n",
       "      <th>4</th>\n",
       "      <td>2010-03-09 07:51:00.000000135</td>\n",
       "      <td>5.3</td>\n",
       "      <td>2010-03-09 07:51:00+00:00</td>\n",
       "      <td>-73.968095</td>\n",
       "      <td>40.768008</td>\n",
       "      <td>-73.956655</td>\n",
       "      <td>40.783762</td>\n",
       "      <td>1</td>\n",
       "      <td>2010</td>\n",
       "      <td>3</td>\n",
       "      <td>9</td>\n",
       "      <td>1</td>\n",
       "      <td>7</td>\n",
       "    </tr>\n",
       "  </tbody>\n",
       "</table>\n",
       "</div>"
      ],
      "text/plain": [
       "                             key  fare_amount           pickup_datetime  \\\n",
       "0    2009-06-15 17:26:21.0000001          4.5 2009-06-15 17:26:21+00:00   \n",
       "1    2010-01-05 16:52:16.0000002         16.9 2010-01-05 16:52:16+00:00   \n",
       "2   2011-08-18 00:35:00.00000049          5.7 2011-08-18 00:35:00+00:00   \n",
       "3    2012-04-21 04:30:42.0000001          7.7 2012-04-21 04:30:42+00:00   \n",
       "4  2010-03-09 07:51:00.000000135          5.3 2010-03-09 07:51:00+00:00   \n",
       "\n",
       "   pickup_longitude  pickup_latitude  dropoff_longitude  dropoff_latitude  \\\n",
       "0        -73.844311        40.721319         -73.841610         40.712278   \n",
       "1        -74.016048        40.711303         -73.979268         40.782004   \n",
       "2        -73.982738        40.761270         -73.991242         40.750562   \n",
       "3        -73.987130        40.733143         -73.991567         40.758092   \n",
       "4        -73.968095        40.768008         -73.956655         40.783762   \n",
       "\n",
       "   passenger_count  pickup_year  pickup_month  pickup_day  pickup_day_of_week  \\\n",
       "0                1         2009             6          15                   0   \n",
       "1                1         2010             1           5                   1   \n",
       "2                2         2011             8          18                   3   \n",
       "3                1         2012             4          21                   5   \n",
       "4                1         2010             3           9                   1   \n",
       "\n",
       "   pickup_hour  \n",
       "0           17  \n",
       "1           16  \n",
       "2            0  \n",
       "3            4  \n",
       "4            7  "
      ]
     },
     "execution_count": 6,
     "metadata": {},
     "output_type": "execute_result"
    }
   ],
   "source": [
    "#Seperate datetime object into year/month/day/hour\n",
    "\n",
    "train['pickup_year'] = pd.DatetimeIndex(train['pickup_datetime']).year\n",
    "train['pickup_month'] = pd.DatetimeIndex(train['pickup_datetime']).month\n",
    "train['pickup_day'] = pd.DatetimeIndex(train['pickup_datetime']).day\n",
    "train['pickup_day_of_week'] = pd.DatetimeIndex(train['pickup_datetime']).dayofweek\n",
    "train['pickup_hour'] = pd.DatetimeIndex(train['pickup_datetime']).hour\n",
    "\n",
    "train.head(5)"
   ]
  },
  {
   "cell_type": "code",
   "execution_count": 9,
   "id": "dd2aaee0",
   "metadata": {},
   "outputs": [
    {
     "data": {
      "text/html": [
       "<div>\n",
       "<style scoped>\n",
       "    .dataframe tbody tr th:only-of-type {\n",
       "        vertical-align: middle;\n",
       "    }\n",
       "\n",
       "    .dataframe tbody tr th {\n",
       "        vertical-align: top;\n",
       "    }\n",
       "\n",
       "    .dataframe thead th {\n",
       "        text-align: right;\n",
       "    }\n",
       "</style>\n",
       "<table border=\"1\" class=\"dataframe\">\n",
       "  <thead>\n",
       "    <tr style=\"text-align: right;\">\n",
       "      <th></th>\n",
       "      <th>key</th>\n",
       "      <th>fare_amount</th>\n",
       "      <th>pickup_datetime</th>\n",
       "      <th>pickup_longitude</th>\n",
       "      <th>pickup_latitude</th>\n",
       "      <th>dropoff_longitude</th>\n",
       "      <th>dropoff_latitude</th>\n",
       "      <th>passenger_count</th>\n",
       "      <th>pickup_year</th>\n",
       "      <th>pickup_month</th>\n",
       "      <th>pickup_day</th>\n",
       "      <th>pickup_day_of_week</th>\n",
       "      <th>pickup_hour</th>\n",
       "      <th>distance</th>\n",
       "    </tr>\n",
       "  </thead>\n",
       "  <tbody>\n",
       "    <tr>\n",
       "      <th>0</th>\n",
       "      <td>2009-06-15 17:26:21.0000001</td>\n",
       "      <td>4.5</td>\n",
       "      <td>2009-06-15 17:26:21+00:00</td>\n",
       "      <td>-73.844311</td>\n",
       "      <td>40.721319</td>\n",
       "      <td>-73.841610</td>\n",
       "      <td>40.712278</td>\n",
       "      <td>1</td>\n",
       "      <td>2009</td>\n",
       "      <td>6</td>\n",
       "      <td>15</td>\n",
       "      <td>0</td>\n",
       "      <td>17</td>\n",
       "      <td>1.030764</td>\n",
       "    </tr>\n",
       "    <tr>\n",
       "      <th>1</th>\n",
       "      <td>2010-01-05 16:52:16.0000002</td>\n",
       "      <td>16.9</td>\n",
       "      <td>2010-01-05 16:52:16+00:00</td>\n",
       "      <td>-74.016048</td>\n",
       "      <td>40.711303</td>\n",
       "      <td>-73.979268</td>\n",
       "      <td>40.782004</td>\n",
       "      <td>1</td>\n",
       "      <td>2010</td>\n",
       "      <td>1</td>\n",
       "      <td>5</td>\n",
       "      <td>1</td>\n",
       "      <td>16</td>\n",
       "      <td>8.450134</td>\n",
       "    </tr>\n",
       "    <tr>\n",
       "      <th>2</th>\n",
       "      <td>2011-08-18 00:35:00.00000049</td>\n",
       "      <td>5.7</td>\n",
       "      <td>2011-08-18 00:35:00+00:00</td>\n",
       "      <td>-73.982738</td>\n",
       "      <td>40.761270</td>\n",
       "      <td>-73.991242</td>\n",
       "      <td>40.750562</td>\n",
       "      <td>2</td>\n",
       "      <td>2011</td>\n",
       "      <td>8</td>\n",
       "      <td>18</td>\n",
       "      <td>3</td>\n",
       "      <td>0</td>\n",
       "      <td>1.389525</td>\n",
       "    </tr>\n",
       "    <tr>\n",
       "      <th>3</th>\n",
       "      <td>2012-04-21 04:30:42.0000001</td>\n",
       "      <td>7.7</td>\n",
       "      <td>2012-04-21 04:30:42+00:00</td>\n",
       "      <td>-73.987130</td>\n",
       "      <td>40.733143</td>\n",
       "      <td>-73.991567</td>\n",
       "      <td>40.758092</td>\n",
       "      <td>1</td>\n",
       "      <td>2012</td>\n",
       "      <td>4</td>\n",
       "      <td>21</td>\n",
       "      <td>5</td>\n",
       "      <td>4</td>\n",
       "      <td>2.799270</td>\n",
       "    </tr>\n",
       "    <tr>\n",
       "      <th>4</th>\n",
       "      <td>2010-03-09 07:51:00.000000135</td>\n",
       "      <td>5.3</td>\n",
       "      <td>2010-03-09 07:51:00+00:00</td>\n",
       "      <td>-73.968095</td>\n",
       "      <td>40.768008</td>\n",
       "      <td>-73.956655</td>\n",
       "      <td>40.783762</td>\n",
       "      <td>1</td>\n",
       "      <td>2010</td>\n",
       "      <td>3</td>\n",
       "      <td>9</td>\n",
       "      <td>1</td>\n",
       "      <td>7</td>\n",
       "      <td>1.999157</td>\n",
       "    </tr>\n",
       "  </tbody>\n",
       "</table>\n",
       "</div>"
      ],
      "text/plain": [
       "                             key  fare_amount           pickup_datetime  \\\n",
       "0    2009-06-15 17:26:21.0000001          4.5 2009-06-15 17:26:21+00:00   \n",
       "1    2010-01-05 16:52:16.0000002         16.9 2010-01-05 16:52:16+00:00   \n",
       "2   2011-08-18 00:35:00.00000049          5.7 2011-08-18 00:35:00+00:00   \n",
       "3    2012-04-21 04:30:42.0000001          7.7 2012-04-21 04:30:42+00:00   \n",
       "4  2010-03-09 07:51:00.000000135          5.3 2010-03-09 07:51:00+00:00   \n",
       "\n",
       "   pickup_longitude  pickup_latitude  dropoff_longitude  dropoff_latitude  \\\n",
       "0        -73.844311        40.721319         -73.841610         40.712278   \n",
       "1        -74.016048        40.711303         -73.979268         40.782004   \n",
       "2        -73.982738        40.761270         -73.991242         40.750562   \n",
       "3        -73.987130        40.733143         -73.991567         40.758092   \n",
       "4        -73.968095        40.768008         -73.956655         40.783762   \n",
       "\n",
       "   passenger_count  pickup_year  pickup_month  pickup_day  pickup_day_of_week  \\\n",
       "0                1         2009             6          15                   0   \n",
       "1                1         2010             1           5                   1   \n",
       "2                2         2011             8          18                   3   \n",
       "3                1         2012             4          21                   5   \n",
       "4                1         2010             3           9                   1   \n",
       "\n",
       "   pickup_hour  distance  \n",
       "0           17  1.030764  \n",
       "1           16  8.450134  \n",
       "2            0  1.389525  \n",
       "3            4  2.799270  \n",
       "4            7  1.999157  "
      ]
     },
     "execution_count": 9,
     "metadata": {},
     "output_type": "execute_result"
    }
   ],
   "source": [
    "# Calculate distance of ride\n",
    "\n",
    "# vectorized haversine function\n",
    "def haversine(lat1, lon1, lat2, lon2, to_radians=True, earth_radius=6371):\n",
    "    \"\"\"\n",
    "    slightly modified version: of http://stackoverflow.com/a/29546836/2901002\n",
    "\n",
    "    Calculate the great circle distance between two points\n",
    "    on the earth (specified in decimal degrees or in radians)\n",
    "\n",
    "    All (lat, lon) coordinates must have numeric dtypes and be of equal length.\n",
    "\n",
    "    \"\"\"\n",
    "    if to_radians:\n",
    "        lat1, lon1, lat2, lon2 = np.radians([lat1, lon1, lat2, lon2])\n",
    "\n",
    "    a = np.sin((lat2-lat1)/2.0)**2 + \\\n",
    "        np.cos(lat1) * np.cos(lat2) * np.sin((lon2-lon1)/2.0)**2\n",
    "\n",
    "    return earth_radius * 2 * np.arcsin(np.sqrt(a))\n",
    "\n",
    "\n",
    "train['distance'] = \\\n",
    "    haversine( train['pickup_latitude'], train['pickup_longitude'],train['dropoff_latitude'], train['dropoff_longitude'] )\n",
    "\n",
    "train.head(5)"
   ]
  },
  {
   "cell_type": "code",
   "execution_count": 10,
   "id": "318ff557",
   "metadata": {},
   "outputs": [
    {
     "data": {
      "text/html": [
       "<div>\n",
       "<style scoped>\n",
       "    .dataframe tbody tr th:only-of-type {\n",
       "        vertical-align: middle;\n",
       "    }\n",
       "\n",
       "    .dataframe tbody tr th {\n",
       "        vertical-align: top;\n",
       "    }\n",
       "\n",
       "    .dataframe thead th {\n",
       "        text-align: right;\n",
       "    }\n",
       "</style>\n",
       "<table border=\"1\" class=\"dataframe\">\n",
       "  <thead>\n",
       "    <tr style=\"text-align: right;\">\n",
       "      <th></th>\n",
       "      <th>fare_amount</th>\n",
       "      <th>pickup_longitude</th>\n",
       "      <th>pickup_latitude</th>\n",
       "      <th>dropoff_longitude</th>\n",
       "      <th>dropoff_latitude</th>\n",
       "      <th>passenger_count</th>\n",
       "      <th>pickup_year</th>\n",
       "      <th>pickup_month</th>\n",
       "      <th>pickup_day</th>\n",
       "      <th>pickup_day_of_week</th>\n",
       "      <th>pickup_hour</th>\n",
       "      <th>distance</th>\n",
       "    </tr>\n",
       "  </thead>\n",
       "  <tbody>\n",
       "    <tr>\n",
       "      <th>count</th>\n",
       "      <td>999990.000000</td>\n",
       "      <td>999990.000000</td>\n",
       "      <td>999990.000000</td>\n",
       "      <td>999990.000000</td>\n",
       "      <td>999990.000000</td>\n",
       "      <td>999990.000000</td>\n",
       "      <td>999990.000000</td>\n",
       "      <td>999990.000000</td>\n",
       "      <td>999990.000000</td>\n",
       "      <td>999990.000000</td>\n",
       "      <td>999990.000000</td>\n",
       "      <td>999990.000000</td>\n",
       "    </tr>\n",
       "    <tr>\n",
       "      <th>mean</th>\n",
       "      <td>11.347953</td>\n",
       "      <td>-72.526699</td>\n",
       "      <td>39.929040</td>\n",
       "      <td>-72.527860</td>\n",
       "      <td>39.919954</td>\n",
       "      <td>1.684941</td>\n",
       "      <td>2011.741103</td>\n",
       "      <td>6.267841</td>\n",
       "      <td>15.697996</td>\n",
       "      <td>3.039870</td>\n",
       "      <td>13.509463</td>\n",
       "      <td>19.090118</td>\n",
       "    </tr>\n",
       "    <tr>\n",
       "      <th>std</th>\n",
       "      <td>9.821790</td>\n",
       "      <td>12.057778</td>\n",
       "      <td>7.626087</td>\n",
       "      <td>11.324494</td>\n",
       "      <td>8.201418</td>\n",
       "      <td>1.323907</td>\n",
       "      <td>1.860761</td>\n",
       "      <td>3.436230</td>\n",
       "      <td>8.682472</td>\n",
       "      <td>1.949966</td>\n",
       "      <td>6.513855</td>\n",
       "      <td>362.408033</td>\n",
       "    </tr>\n",
       "    <tr>\n",
       "      <th>min</th>\n",
       "      <td>-44.900000</td>\n",
       "      <td>-3377.680935</td>\n",
       "      <td>-3116.285383</td>\n",
       "      <td>-3383.296608</td>\n",
       "      <td>-3114.338567</td>\n",
       "      <td>0.000000</td>\n",
       "      <td>2009.000000</td>\n",
       "      <td>1.000000</td>\n",
       "      <td>1.000000</td>\n",
       "      <td>0.000000</td>\n",
       "      <td>0.000000</td>\n",
       "      <td>0.000000</td>\n",
       "    </tr>\n",
       "    <tr>\n",
       "      <th>25%</th>\n",
       "      <td>6.000000</td>\n",
       "      <td>-73.992060</td>\n",
       "      <td>40.734965</td>\n",
       "      <td>-73.991385</td>\n",
       "      <td>40.734046</td>\n",
       "      <td>1.000000</td>\n",
       "      <td>2010.000000</td>\n",
       "      <td>3.000000</td>\n",
       "      <td>8.000000</td>\n",
       "      <td>1.000000</td>\n",
       "      <td>9.000000</td>\n",
       "      <td>1.212942</td>\n",
       "    </tr>\n",
       "    <tr>\n",
       "      <th>50%</th>\n",
       "      <td>8.500000</td>\n",
       "      <td>-73.981792</td>\n",
       "      <td>40.752695</td>\n",
       "      <td>-73.980135</td>\n",
       "      <td>40.753166</td>\n",
       "      <td>1.000000</td>\n",
       "      <td>2012.000000</td>\n",
       "      <td>6.000000</td>\n",
       "      <td>16.000000</td>\n",
       "      <td>3.000000</td>\n",
       "      <td>14.000000</td>\n",
       "      <td>2.115922</td>\n",
       "    </tr>\n",
       "    <tr>\n",
       "      <th>75%</th>\n",
       "      <td>12.500000</td>\n",
       "      <td>-73.967094</td>\n",
       "      <td>40.767154</td>\n",
       "      <td>-73.963654</td>\n",
       "      <td>40.768129</td>\n",
       "      <td>2.000000</td>\n",
       "      <td>2013.000000</td>\n",
       "      <td>9.000000</td>\n",
       "      <td>23.000000</td>\n",
       "      <td>5.000000</td>\n",
       "      <td>19.000000</td>\n",
       "      <td>3.882433</td>\n",
       "    </tr>\n",
       "    <tr>\n",
       "      <th>max</th>\n",
       "      <td>500.000000</td>\n",
       "      <td>2522.271325</td>\n",
       "      <td>2621.628430</td>\n",
       "      <td>45.581619</td>\n",
       "      <td>1651.553433</td>\n",
       "      <td>208.000000</td>\n",
       "      <td>2015.000000</td>\n",
       "      <td>12.000000</td>\n",
       "      <td>31.000000</td>\n",
       "      <td>6.000000</td>\n",
       "      <td>23.000000</td>\n",
       "      <td>16878.303157</td>\n",
       "    </tr>\n",
       "  </tbody>\n",
       "</table>\n",
       "</div>"
      ],
      "text/plain": [
       "         fare_amount  pickup_longitude  pickup_latitude  dropoff_longitude  \\\n",
       "count  999990.000000     999990.000000    999990.000000      999990.000000   \n",
       "mean       11.347953        -72.526699        39.929040         -72.527860   \n",
       "std         9.821790         12.057778         7.626087          11.324494   \n",
       "min       -44.900000      -3377.680935     -3116.285383       -3383.296608   \n",
       "25%         6.000000        -73.992060        40.734965         -73.991385   \n",
       "50%         8.500000        -73.981792        40.752695         -73.980135   \n",
       "75%        12.500000        -73.967094        40.767154         -73.963654   \n",
       "max       500.000000       2522.271325      2621.628430          45.581619   \n",
       "\n",
       "       dropoff_latitude  passenger_count    pickup_year   pickup_month  \\\n",
       "count     999990.000000    999990.000000  999990.000000  999990.000000   \n",
       "mean          39.919954         1.684941    2011.741103       6.267841   \n",
       "std            8.201418         1.323907       1.860761       3.436230   \n",
       "min        -3114.338567         0.000000    2009.000000       1.000000   \n",
       "25%           40.734046         1.000000    2010.000000       3.000000   \n",
       "50%           40.753166         1.000000    2012.000000       6.000000   \n",
       "75%           40.768129         2.000000    2013.000000       9.000000   \n",
       "max         1651.553433       208.000000    2015.000000      12.000000   \n",
       "\n",
       "          pickup_day  pickup_day_of_week    pickup_hour       distance  \n",
       "count  999990.000000       999990.000000  999990.000000  999990.000000  \n",
       "mean       15.697996            3.039870      13.509463      19.090118  \n",
       "std         8.682472            1.949966       6.513855     362.408033  \n",
       "min         1.000000            0.000000       0.000000       0.000000  \n",
       "25%         8.000000            1.000000       9.000000       1.212942  \n",
       "50%        16.000000            3.000000      14.000000       2.115922  \n",
       "75%        23.000000            5.000000      19.000000       3.882433  \n",
       "max        31.000000            6.000000      23.000000   16878.303157  "
      ]
     },
     "execution_count": 10,
     "metadata": {},
     "output_type": "execute_result"
    }
   ],
   "source": [
    "train.describe()"
   ]
  },
  {
   "cell_type": "markdown",
   "id": "a2669d70",
   "metadata": {},
   "source": [
    "#### A few things to fix\n",
    "##### passenger_count outlier 208 --> assume no more than 10 people per ride\n",
    "##### negative fare_amounts\n",
    "##### coordinates not within New York, i.e. long[40.4; 41] & lat[-73.6; -74.3]\n",
    "##### distance must be greater than 0\n"
   ]
  },
  {
   "cell_type": "code",
   "execution_count": 11,
   "id": "3a3fd2cd",
   "metadata": {},
   "outputs": [],
   "source": [
    "train = train[train['fare_amount'] > 0]\n",
    "\n",
    "train = train[ (train['pickup_longitude'] > 40.4)   &  (train['pickup_longitude'] < 41) ]\n",
    "train = train[ (train['dropoff_longitude'] > 40.4)  &  (train['dropoff_longitude'] < 41) ]\n",
    "\n",
    "train = train[ (train['pickup_latitude'] > -74.3)   &  (train['pickup_latitude'] < -73.6) ]\n",
    "train = train[ (train['dropoff_latitude'] > -74.3)  &  (train['dropoff_latitude'] < -73.6) ]\n",
    "\n",
    "train = train[train['passenger_count'] < 10]\n",
    "\n",
    "train = train[train['distance'] > 0]"
   ]
  },
  {
   "cell_type": "code",
   "execution_count": 12,
   "id": "e63f5290",
   "metadata": {},
   "outputs": [
    {
     "data": {
      "text/html": [
       "<div>\n",
       "<style scoped>\n",
       "    .dataframe tbody tr th:only-of-type {\n",
       "        vertical-align: middle;\n",
       "    }\n",
       "\n",
       "    .dataframe tbody tr th {\n",
       "        vertical-align: top;\n",
       "    }\n",
       "\n",
       "    .dataframe thead th {\n",
       "        text-align: right;\n",
       "    }\n",
       "</style>\n",
       "<table border=\"1\" class=\"dataframe\">\n",
       "  <thead>\n",
       "    <tr style=\"text-align: right;\">\n",
       "      <th></th>\n",
       "      <th>fare_amount</th>\n",
       "      <th>pickup_longitude</th>\n",
       "      <th>pickup_latitude</th>\n",
       "      <th>dropoff_longitude</th>\n",
       "      <th>dropoff_latitude</th>\n",
       "      <th>passenger_count</th>\n",
       "      <th>pickup_year</th>\n",
       "      <th>pickup_month</th>\n",
       "      <th>pickup_day</th>\n",
       "      <th>pickup_day_of_week</th>\n",
       "      <th>pickup_hour</th>\n",
       "      <th>distance</th>\n",
       "    </tr>\n",
       "  </thead>\n",
       "  <tbody>\n",
       "    <tr>\n",
       "      <th>count</th>\n",
       "      <td>486.000000</td>\n",
       "      <td>486.000000</td>\n",
       "      <td>486.000000</td>\n",
       "      <td>486.000000</td>\n",
       "      <td>486.000000</td>\n",
       "      <td>486.000000</td>\n",
       "      <td>486.0</td>\n",
       "      <td>486.000000</td>\n",
       "      <td>486.000000</td>\n",
       "      <td>486.000000</td>\n",
       "      <td>486.00000</td>\n",
       "      <td>486.000000</td>\n",
       "    </tr>\n",
       "    <tr>\n",
       "      <th>mean</th>\n",
       "      <td>12.658272</td>\n",
       "      <td>40.746504</td>\n",
       "      <td>-73.975504</td>\n",
       "      <td>40.749171</td>\n",
       "      <td>-73.971968</td>\n",
       "      <td>2.059671</td>\n",
       "      <td>2013.0</td>\n",
       "      <td>5.024691</td>\n",
       "      <td>23.170782</td>\n",
       "      <td>3.572016</td>\n",
       "      <td>13.37037</td>\n",
       "      <td>2.926015</td>\n",
       "    </tr>\n",
       "    <tr>\n",
       "      <th>std</th>\n",
       "      <td>9.920671</td>\n",
       "      <td>0.028870</td>\n",
       "      <td>0.038516</td>\n",
       "      <td>0.031393</td>\n",
       "      <td>0.035912</td>\n",
       "      <td>1.665458</td>\n",
       "      <td>0.0</td>\n",
       "      <td>0.179941</td>\n",
       "      <td>2.222112</td>\n",
       "      <td>1.581451</td>\n",
       "      <td>7.17805</td>\n",
       "      <td>3.990464</td>\n",
       "    </tr>\n",
       "    <tr>\n",
       "      <th>min</th>\n",
       "      <td>2.500000</td>\n",
       "      <td>40.641977</td>\n",
       "      <td>-74.016587</td>\n",
       "      <td>40.615782</td>\n",
       "      <td>-74.035197</td>\n",
       "      <td>1.000000</td>\n",
       "      <td>2013.0</td>\n",
       "      <td>5.000000</td>\n",
       "      <td>11.000000</td>\n",
       "      <td>0.000000</td>\n",
       "      <td>0.00000</td>\n",
       "      <td>0.018573</td>\n",
       "    </tr>\n",
       "    <tr>\n",
       "      <th>25%</th>\n",
       "      <td>7.000000</td>\n",
       "      <td>40.732944</td>\n",
       "      <td>-73.993846</td>\n",
       "      <td>40.732152</td>\n",
       "      <td>-73.990919</td>\n",
       "      <td>1.000000</td>\n",
       "      <td>2013.0</td>\n",
       "      <td>5.000000</td>\n",
       "      <td>22.000000</td>\n",
       "      <td>2.000000</td>\n",
       "      <td>8.00000</td>\n",
       "      <td>0.984257</td>\n",
       "    </tr>\n",
       "    <tr>\n",
       "      <th>50%</th>\n",
       "      <td>9.500000</td>\n",
       "      <td>40.748904</td>\n",
       "      <td>-73.984033</td>\n",
       "      <td>40.751427</td>\n",
       "      <td>-73.978864</td>\n",
       "      <td>1.000000</td>\n",
       "      <td>2013.0</td>\n",
       "      <td>5.000000</td>\n",
       "      <td>23.000000</td>\n",
       "      <td>4.000000</td>\n",
       "      <td>14.00000</td>\n",
       "      <td>1.668664</td>\n",
       "    </tr>\n",
       "    <tr>\n",
       "      <th>75%</th>\n",
       "      <td>14.375000</td>\n",
       "      <td>40.764243</td>\n",
       "      <td>-73.969486</td>\n",
       "      <td>40.766506</td>\n",
       "      <td>-73.964098</td>\n",
       "      <td>2.000000</td>\n",
       "      <td>2013.0</td>\n",
       "      <td>5.000000</td>\n",
       "      <td>25.000000</td>\n",
       "      <td>5.000000</td>\n",
       "      <td>20.00000</td>\n",
       "      <td>3.065218</td>\n",
       "    </tr>\n",
       "    <tr>\n",
       "      <th>max</th>\n",
       "      <td>60.000000</td>\n",
       "      <td>40.850357</td>\n",
       "      <td>-73.777107</td>\n",
       "      <td>40.851027</td>\n",
       "      <td>-73.746810</td>\n",
       "      <td>6.000000</td>\n",
       "      <td>2013.0</td>\n",
       "      <td>7.000000</td>\n",
       "      <td>26.000000</td>\n",
       "      <td>6.000000</td>\n",
       "      <td>23.00000</td>\n",
       "      <td>26.559941</td>\n",
       "    </tr>\n",
       "  </tbody>\n",
       "</table>\n",
       "</div>"
      ],
      "text/plain": [
       "       fare_amount  pickup_longitude  pickup_latitude  dropoff_longitude  \\\n",
       "count   486.000000        486.000000       486.000000         486.000000   \n",
       "mean     12.658272         40.746504       -73.975504          40.749171   \n",
       "std       9.920671          0.028870         0.038516           0.031393   \n",
       "min       2.500000         40.641977       -74.016587          40.615782   \n",
       "25%       7.000000         40.732944       -73.993846          40.732152   \n",
       "50%       9.500000         40.748904       -73.984033          40.751427   \n",
       "75%      14.375000         40.764243       -73.969486          40.766506   \n",
       "max      60.000000         40.850357       -73.777107          40.851027   \n",
       "\n",
       "       dropoff_latitude  passenger_count  pickup_year  pickup_month  \\\n",
       "count        486.000000       486.000000        486.0    486.000000   \n",
       "mean         -73.971968         2.059671       2013.0      5.024691   \n",
       "std            0.035912         1.665458          0.0      0.179941   \n",
       "min          -74.035197         1.000000       2013.0      5.000000   \n",
       "25%          -73.990919         1.000000       2013.0      5.000000   \n",
       "50%          -73.978864         1.000000       2013.0      5.000000   \n",
       "75%          -73.964098         2.000000       2013.0      5.000000   \n",
       "max          -73.746810         6.000000       2013.0      7.000000   \n",
       "\n",
       "       pickup_day  pickup_day_of_week  pickup_hour    distance  \n",
       "count  486.000000          486.000000    486.00000  486.000000  \n",
       "mean    23.170782            3.572016     13.37037    2.926015  \n",
       "std      2.222112            1.581451      7.17805    3.990464  \n",
       "min     11.000000            0.000000      0.00000    0.018573  \n",
       "25%     22.000000            2.000000      8.00000    0.984257  \n",
       "50%     23.000000            4.000000     14.00000    1.668664  \n",
       "75%     25.000000            5.000000     20.00000    3.065218  \n",
       "max     26.000000            6.000000     23.00000   26.559941  "
      ]
     },
     "execution_count": 12,
     "metadata": {},
     "output_type": "execute_result"
    }
   ],
   "source": [
    "#train.boxplot(column='passenger_count', showfliers=False)\n",
    "#train.loc[train['distance'] < 10]\n",
    "train.describe()"
   ]
  },
  {
   "cell_type": "markdown",
   "id": "d98d36cb",
   "metadata": {},
   "source": [
    "# Visualize Data"
   ]
  },
  {
   "cell_type": "code",
   "execution_count": 16,
   "id": "ed4f364a",
   "metadata": {},
   "outputs": [
    {
     "data": {
      "text/html": [
       "<div>\n",
       "<style scoped>\n",
       "    .dataframe tbody tr th:only-of-type {\n",
       "        vertical-align: middle;\n",
       "    }\n",
       "\n",
       "    .dataframe tbody tr th {\n",
       "        vertical-align: top;\n",
       "    }\n",
       "\n",
       "    .dataframe thead th {\n",
       "        text-align: right;\n",
       "    }\n",
       "</style>\n",
       "<table border=\"1\" class=\"dataframe\">\n",
       "  <thead>\n",
       "    <tr style=\"text-align: right;\">\n",
       "      <th></th>\n",
       "      <th>key</th>\n",
       "      <th>fare_amount</th>\n",
       "      <th>pickup_datetime</th>\n",
       "      <th>pickup_longitude</th>\n",
       "      <th>pickup_latitude</th>\n",
       "      <th>dropoff_longitude</th>\n",
       "      <th>dropoff_latitude</th>\n",
       "      <th>passenger_count</th>\n",
       "      <th>pickup_year</th>\n",
       "      <th>pickup_month</th>\n",
       "      <th>pickup_day</th>\n",
       "      <th>pickup_day_of_week</th>\n",
       "      <th>pickup_hour</th>\n",
       "      <th>distance</th>\n",
       "    </tr>\n",
       "  </thead>\n",
       "  <tbody>\n",
       "    <tr>\n",
       "      <th>2147</th>\n",
       "      <td>2013-05-24 14:54:00.00000079</td>\n",
       "      <td>5.0</td>\n",
       "      <td>2013-05-24 14:54:00+00:00</td>\n",
       "      <td>40.751582</td>\n",
       "      <td>-73.986968</td>\n",
       "      <td>40.758867</td>\n",
       "      <td>-73.978353</td>\n",
       "      <td>2</td>\n",
       "      <td>2013</td>\n",
       "      <td>5</td>\n",
       "      <td>24</td>\n",
       "      <td>4</td>\n",
       "      <td>14</td>\n",
       "      <td>0.983675</td>\n",
       "    </tr>\n",
       "    <tr>\n",
       "      <th>3827</th>\n",
       "      <td>2013-06-20 04:28:00.0000001</td>\n",
       "      <td>11.0</td>\n",
       "      <td>2013-06-20 04:28:00+00:00</td>\n",
       "      <td>40.719830</td>\n",
       "      <td>-73.988467</td>\n",
       "      <td>40.723305</td>\n",
       "      <td>-73.939430</td>\n",
       "      <td>1</td>\n",
       "      <td>2013</td>\n",
       "      <td>6</td>\n",
       "      <td>20</td>\n",
       "      <td>3</td>\n",
       "      <td>4</td>\n",
       "      <td>5.453710</td>\n",
       "    </tr>\n",
       "    <tr>\n",
       "      <th>4783</th>\n",
       "      <td>2013-05-22 06:28:00.0000004</td>\n",
       "      <td>6.5</td>\n",
       "      <td>2013-05-22 06:28:00+00:00</td>\n",
       "      <td>40.748262</td>\n",
       "      <td>-73.991840</td>\n",
       "      <td>40.740372</td>\n",
       "      <td>-73.979010</td>\n",
       "      <td>1</td>\n",
       "      <td>2013</td>\n",
       "      <td>5</td>\n",
       "      <td>22</td>\n",
       "      <td>2</td>\n",
       "      <td>6</td>\n",
       "      <td>1.447017</td>\n",
       "    </tr>\n",
       "    <tr>\n",
       "      <th>6705</th>\n",
       "      <td>2013-05-22 15:33:00.000000175</td>\n",
       "      <td>13.0</td>\n",
       "      <td>2013-05-22 15:33:00+00:00</td>\n",
       "      <td>40.766125</td>\n",
       "      <td>-73.983285</td>\n",
       "      <td>40.757417</td>\n",
       "      <td>-73.977962</td>\n",
       "      <td>2</td>\n",
       "      <td>2013</td>\n",
       "      <td>5</td>\n",
       "      <td>22</td>\n",
       "      <td>2</td>\n",
       "      <td>15</td>\n",
       "      <td>0.649412</td>\n",
       "    </tr>\n",
       "    <tr>\n",
       "      <th>7525</th>\n",
       "      <td>2013-05-22 10:54:00.000000140</td>\n",
       "      <td>13.0</td>\n",
       "      <td>2013-05-22 10:54:00+00:00</td>\n",
       "      <td>40.760495</td>\n",
       "      <td>-73.973047</td>\n",
       "      <td>40.740367</td>\n",
       "      <td>-73.994392</td>\n",
       "      <td>1</td>\n",
       "      <td>2013</td>\n",
       "      <td>5</td>\n",
       "      <td>22</td>\n",
       "      <td>2</td>\n",
       "      <td>10</td>\n",
       "      <td>2.452474</td>\n",
       "    </tr>\n",
       "  </tbody>\n",
       "</table>\n",
       "</div>"
      ],
      "text/plain": [
       "                                key  fare_amount           pickup_datetime  \\\n",
       "2147   2013-05-24 14:54:00.00000079          5.0 2013-05-24 14:54:00+00:00   \n",
       "3827    2013-06-20 04:28:00.0000001         11.0 2013-06-20 04:28:00+00:00   \n",
       "4783    2013-05-22 06:28:00.0000004          6.5 2013-05-22 06:28:00+00:00   \n",
       "6705  2013-05-22 15:33:00.000000175         13.0 2013-05-22 15:33:00+00:00   \n",
       "7525  2013-05-22 10:54:00.000000140         13.0 2013-05-22 10:54:00+00:00   \n",
       "\n",
       "      pickup_longitude  pickup_latitude  dropoff_longitude  dropoff_latitude  \\\n",
       "2147         40.751582       -73.986968          40.758867        -73.978353   \n",
       "3827         40.719830       -73.988467          40.723305        -73.939430   \n",
       "4783         40.748262       -73.991840          40.740372        -73.979010   \n",
       "6705         40.766125       -73.983285          40.757417        -73.977962   \n",
       "7525         40.760495       -73.973047          40.740367        -73.994392   \n",
       "\n",
       "      passenger_count  pickup_year  pickup_month  pickup_day  \\\n",
       "2147                2         2013             5          24   \n",
       "3827                1         2013             6          20   \n",
       "4783                1         2013             5          22   \n",
       "6705                2         2013             5          22   \n",
       "7525                1         2013             5          22   \n",
       "\n",
       "      pickup_day_of_week  pickup_hour  distance  \n",
       "2147                   4           14  0.983675  \n",
       "3827                   3            4  5.453710  \n",
       "4783                   2            6  1.447017  \n",
       "6705                   2           15  0.649412  \n",
       "7525                   2           10  2.452474  "
      ]
     },
     "execution_count": 16,
     "metadata": {},
     "output_type": "execute_result"
    },
    {
     "data": {
      "image/png": "[encoded data removed]",
      "text/plain": [
       "<Figure size 432x288 with 1 Axes>"
      ]
     },
     "metadata": {
      "needs_background": "light"
     },
     "output_type": "display_data"
    }
   ],
   "source": [
    "train.groupby('pickup_year')['fare_amount'].mean().plot()\n",
    "train.head(5)"
   ]
  },
  {
   "cell_type": "code",
   "execution_count": 17,
   "id": "799cd52a",
   "metadata": {},
   "outputs": [
    {
     "data": {
      "text/plain": [
       "<AxesSubplot:xlabel='pickup_month'>"
      ]
     },
     "execution_count": 17,
     "metadata": {},
     "output_type": "execute_result"
    },
    {
     "data": {
      "image/png": "[encoded data removed]",
      "text/plain": [
       "<Figure size 432x288 with 1 Axes>"
      ]
     },
     "metadata": {
      "needs_background": "light"
     },
     "output_type": "display_data"
    }
   ],
   "source": [
    "train.groupby('pickup_month')['fare_amount'].mean().plot()"
   ]
  },
  {
   "cell_type": "code",
   "execution_count": 18,
   "id": "25ec8228",
   "metadata": {},
   "outputs": [
    {
     "data": {
      "text/plain": [
       "<AxesSubplot:xlabel='pickup_day'>"
      ]
     },
     "execution_count": 18,
     "metadata": {},
     "output_type": "execute_result"
    },
    {
     "data": {
      "image/png": "[encoded data removed]",
      "text/plain": [
       "<Figure size 432x288 with 1 Axes>"
      ]
     },
     "metadata": {
      "needs_background": "light"
     },
     "output_type": "display_data"
    }
   ],
   "source": [
    "train.groupby('pickup_day')['fare_amount'].mean().plot()"
   ]
  },
  {
   "cell_type": "code",
   "execution_count": 19,
   "id": "5d25055e",
   "metadata": {},
   "outputs": [
    {
     "data": {
      "text/plain": [
       "<AxesSubplot:xlabel='pickup_day_of_week'>"
      ]
     },
     "execution_count": 19,
     "metadata": {},
     "output_type": "execute_result"
    },
    {
     "data": {
      "image/png": "[encoded data removed]",
      "text/plain": [
       "<Figure size 432x288 with 1 Axes>"
      ]
     },
     "metadata": {
      "needs_background": "light"
     },
     "output_type": "display_data"
    }
   ],
   "source": [
    "train.groupby('pickup_day_of_week')['fare_amount'].mean().plot()"
   ]
  },
  {
   "cell_type": "code",
   "execution_count": 20,
   "id": "844167e6",
   "metadata": {},
   "outputs": [
    {
     "data": {
      "text/plain": [
       "<AxesSubplot:xlabel='pickup_hour'>"
      ]
     },
     "execution_count": 20,
     "metadata": {},
     "output_type": "execute_result"
    },
    {
     "data": {
      "image/png": "[encoded data removed]",
      "text/plain": [
       "<Figure size 432x288 with 1 Axes>"
      ]
     },
     "metadata": {
      "needs_background": "light"
     },
     "output_type": "display_data"
    }
   ],
   "source": [
    "train.groupby('pickup_hour')['fare_amount'].mean().plot()"
   ]
  },
  {
   "cell_type": "code",
   "execution_count": 21,
   "id": "b5f5806a",
   "metadata": {},
   "outputs": [
    {
     "data": {
      "text/plain": [
       "Text(0, 0.5, 'fare_amount')"
      ]
     },
     "execution_count": 21,
     "metadata": {},
     "output_type": "execute_result"
    },
    {
     "data": {
      "image/png": "[encoded data removed]",
      "text/plain": [
       "<Figure size 432x288 with 1 Axes>"
      ]
     },
     "metadata": {
      "needs_background": "light"
     },
     "output_type": "display_data"
    }
   ],
   "source": [
    "plt.scatter(train['distance'], train['fare_amount'])\n",
    "plt.xlabel(\"distance\")\n",
    "plt.ylabel(\"fare_amount\")"
   ]
  },
  {
   "cell_type": "code",
   "execution_count": 22,
   "id": "b576dfaa",
   "metadata": {},
   "outputs": [
    {
     "data": {
      "text/plain": [
       "<matplotlib.collections.PathCollection at 0x2090519a7c0>"
      ]
     },
     "execution_count": 22,
     "metadata": {},
     "output_type": "execute_result"
    },
    {
     "data": {
      "image/png": "[encoded data removed]",
      "text/plain": [
       "<Figure size 432x288 with 1 Axes>"
      ]
     },
     "metadata": {
      "needs_background": "light"
     },
     "output_type": "display_data"
    }
   ],
   "source": [
    "plt.scatter(train['passenger_count'], train['fare_amount'])"
   ]
  },
  {
   "cell_type": "code",
   "execution_count": 23,
   "id": "112b8652",
   "metadata": {},
   "outputs": [
    {
     "data": {
      "text/plain": [
       "fare_amount           1.000000\n",
       "distance              0.817601\n",
       "dropoff_latitude      0.471458\n",
       "pickup_latitude       0.383217\n",
       "passenger_count       0.075467\n",
       "pickup_month          0.029950\n",
       "pickup_hour          -0.044890\n",
       "pickup_day_of_week   -0.098341\n",
       "pickup_day           -0.101876\n",
       "dropoff_longitude    -0.227213\n",
       "pickup_longitude     -0.294528\n",
       "pickup_year                NaN\n",
       "Name: fare_amount, dtype: float64"
      ]
     },
     "execution_count": 23,
     "metadata": {},
     "output_type": "execute_result"
    }
   ],
   "source": [
    "train.corr()[\"fare_amount\"].sort_values(ascending = False)"
   ]
  },
  {
   "cell_type": "markdown",
   "id": "67d5dbc8",
   "metadata": {},
   "source": [
    "##### Fares have risen in the past couple of years\n",
    "##### Fares are the lowest on staurday and highest on sundays\n",
    "##### Fares are highest in the morning around 5 and another peak around 15 and 24\n",
    "##### Longer distance seems to correlate with higer fares"
   ]
  },
  {
   "cell_type": "code",
   "execution_count": 24,
   "id": "2451c244",
   "metadata": {
    "scrolled": true
   },
   "outputs": [
    {
     "data": {
      "text/plain": [
       "(array([192., 161.,  58.,  38.,   9.,   7.,   6.,   4.,   4.,   7.]),\n",
       " array([ 2.5 ,  8.25, 14.  , 19.75, 25.5 , 31.25, 37.  , 42.75, 48.5 ,\n",
       "        54.25, 60.  ]),\n",
       " <BarContainer object of 10 artists>)"
      ]
     },
     "execution_count": 24,
     "metadata": {},
     "output_type": "execute_result"
    },
    {
     "data": {
      "image/png": "[encoded data removed]",
      "text/plain": [
       "<Figure size 432x288 with 1 Axes>"
      ]
     },
     "metadata": {
      "needs_background": "light"
     },
     "output_type": "display_data"
    }
   ],
   "source": [
    "plt.hist(train['fare_amount'])"
   ]
  },
  {
   "cell_type": "code",
   "execution_count": 25,
   "id": "fe7f9a56",
   "metadata": {
    "scrolled": true
   },
   "outputs": [
    {
     "data": {
      "text/plain": [
       "(array([295.,   0.,  78.,   0.,  20.,   0.,  10.,   0.,  48.,  35.]),\n",
       " array([1. , 1.5, 2. , 2.5, 3. , 3.5, 4. , 4.5, 5. , 5.5, 6. ]),\n",
       " <BarContainer object of 10 artists>)"
      ]
     },
     "execution_count": 25,
     "metadata": {},
     "output_type": "execute_result"
    },
    {
     "data": {
      "image/png": "[encoded data removed]",
      "text/plain": [
       "<Figure size 432x288 with 1 Axes>"
      ]
     },
     "metadata": {
      "needs_background": "light"
     },
     "output_type": "display_data"
    }
   ],
   "source": [
    "plt.hist(train['passenger_count'])"
   ]
  },
  {
   "cell_type": "markdown",
   "id": "3743bb3b",
   "metadata": {},
   "source": [
    "##### Most rides are only 1 person"
   ]
  },
  {
   "cell_type": "markdown",
   "id": "1c177411",
   "metadata": {},
   "source": [
    "# Features\n",
    "\n",
    "##### Day of week, time of day, distance seem like relevant to predict to fare amount"
   ]
  },
  {
   "cell_type": "code",
   "execution_count": 26,
   "id": "637c0243",
   "metadata": {
    "scrolled": false
   },
   "outputs": [
    {
     "data": {
      "text/plain": [
       "<matplotlib.collections.PathCollection at 0x20904d4fd90>"
      ]
     },
     "execution_count": 26,
     "metadata": {},
     "output_type": "execute_result"
    },
    {
     "data": {
      "image/png": "[encoded data removed]",
      "text/plain": [
       "<Figure size 432x288 with 1 Axes>"
      ]
     },
     "metadata": {
      "needs_background": "light"
     },
     "output_type": "display_data"
    }
   ],
   "source": [
    "plt.scatter(train['pickup_latitude'], train['pickup_longitude'], s=4) #Should look like map of New York"
   ]
  },
  {
   "cell_type": "code",
   "execution_count": null,
   "id": "b0a56108",
   "metadata": {},
   "outputs": [],
   "source": []
  },
  {
   "cell_type": "code",
   "execution_count": null,
   "id": "b88eeb7b",
   "metadata": {},
   "outputs": [],
   "source": []
  },
  {
   "cell_type": "code",
   "execution_count": null,
   "id": "f18168cb",
   "metadata": {},
   "outputs": [],
   "source": []
  },
  {
   "cell_type": "code",
   "execution_count": null,
   "id": "01ea8358",
   "metadata": {},
   "outputs": [],
   "source": []
  },
  {
   "cell_type": "code",
   "execution_count": null,
   "id": "a8dbe4e3",
   "metadata": {},
   "outputs": [],
   "source": []
  },
  {
   "cell_type": "code",
   "execution_count": null,
   "id": "e1f943d9",
   "metadata": {},
   "outputs": [],
   "source": []
  }
 ],
 "metadata": {
  "kernelspec": {
   "display_name": "Python 3 (ipykernel)",
   "language": "python",
   "name": "python3"
  },
  "language_info": {
   "codemirror_mode": {
    "name": "ipython",
    "version": 3
   },
   "file_extension": ".py",
   "mimetype": "text/x-python",
   "name": "python",
   "nbconvert_exporter": "python",
   "pygments_lexer": "ipython3",
   "version": "3.8.6"
  }
 },
 "nbformat": 4,
 "nbformat_minor": 5
}
